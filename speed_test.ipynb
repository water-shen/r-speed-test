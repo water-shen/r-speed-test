{
  "nbformat": 4,
  "nbformat_minor": 0,
  "metadata": {
    "colab": {
      "provenance": [],
      "authorship_tag": "ABX9TyM2VplWk19pldDTPJUvk2LV",
      "include_colab_link": true
    },
    "kernelspec": {
      "name": "ir",
      "display_name": "R"
    },
    "language_info": {
      "name": "R"
    }
  },
  "cells": [
    {
      "cell_type": "markdown",
      "metadata": {
        "id": "view-in-github",
        "colab_type": "text"
      },
      "source": [
        "<a href=\"https://colab.research.google.com/github/water-shen/r-speed-test/blob/main/speed_test.ipynb\" target=\"_parent\"><img src=\"https://colab.research.google.com/assets/colab-badge.svg\" alt=\"Open In Colab\"/></a>"
      ]
    },
    {
      "cell_type": "code",
      "execution_count": 1,
      "metadata": {
        "colab": {
          "base_uri": "https://localhost:8080/"
        },
        "id": "Xvz3Oymo48SP",
        "outputId": "4ec9a828-2259-421b-fc50-9949d9cc92e2"
      },
      "outputs": [
        {
          "output_type": "stream",
          "name": "stdout",
          "text": [
            "   user  system elapsed \n",
            "  7.353   0.084   7.888 \n",
            "   user  system elapsed \n",
            " 17.753   0.163  19.013 \n",
            "[1] TRUE\n"
          ]
        }
      ],
      "source": [
        "f <- function(x) {\n",
        "    return(x)\n",
        "}\n",
        "\n",
        "g1 <- function(x) {\n",
        "    return(x)\n",
        "}\n",
        "\n",
        "g2 <- function(x) {\n",
        "    return(x)\n",
        "}\n",
        "\n",
        "g3 <- function(x) {\n",
        "    return(x)\n",
        "}\n",
        "\n",
        "N <- 1e7\n",
        "\n",
        "result1 <- rep(0, N)\n",
        "print(system.time({\n",
        "    for (i in 1:N) {\n",
        "        result1[i] <- f(i)\n",
        "    }\n",
        "}))\n",
        "\n",
        "result2 <- rep(0, N)\n",
        "print(system.time({\n",
        "    for (i in 1:N) {\n",
        "        result2[i] <- g3(g2(g1(i)))\n",
        "    }\n",
        "}))\n",
        "\n",
        "print(all(result1 == result2))\n"
      ]
    },
    {
      "cell_type": "code",
      "source": [
        "f <- function(x) {\n",
        "    return(((x + 1)^2 + 3)^4)\n",
        "}\n",
        "\n",
        "g1 <- function(x) {\n",
        "    return(x + 1)\n",
        "}\n",
        "\n",
        "g2 <- function(x) {\n",
        "    return(x^2)\n",
        "}\n",
        "\n",
        "g3 <- function(x) {\n",
        "    return(x + 3)\n",
        "}\n",
        "\n",
        "g4 <- function(x) {\n",
        "    return(x^4)\n",
        "}\n",
        "\n",
        "N <- 1e7\n",
        "\n",
        "result1 <- rep(0, N)\n",
        "print(system.time({\n",
        "    for (i in 1:N) {\n",
        "        result1[i] <- f(i)\n",
        "    }\n",
        "}))\n",
        "\n",
        "result2 <- rep(0, N)\n",
        "print(system.time({\n",
        "    for (i in 1:N) {\n",
        "        result2[i] <- g4(g3(g2(g1(i))))\n",
        "    }\n",
        "}))\n",
        "\n",
        "print(all(result1 == result2))\n"
      ],
      "metadata": {
        "colab": {
          "base_uri": "https://localhost:8080/"
        },
        "id": "TYu_kJwo5DVo",
        "outputId": "d269fa1a-213d-4831-b6fd-4790440742a9"
      },
      "execution_count": 2,
      "outputs": [
        {
          "output_type": "stream",
          "name": "stdout",
          "text": [
            "   user  system elapsed \n",
            "  6.487   0.060   6.615 \n",
            "   user  system elapsed \n",
            " 22.817   0.107  24.089 \n",
            "[1] TRUE\n"
          ]
        }
      ]
    },
    {
      "cell_type": "code",
      "source": [
        "f <- function(x) {\n",
        "    return(tan(exp(sin(127 * x - 42 * pi))))\n",
        "}\n",
        "\n",
        "g1 <- function(x) {\n",
        "    return(127 * x - 42 * pi)\n",
        "}\n",
        "\n",
        "g2 <- function(x) {\n",
        "    return(sin(x))\n",
        "}\n",
        "\n",
        "g3 <- function(x) {\n",
        "    return(exp(x))\n",
        "}\n",
        "\n",
        "g4 <- function(x) {\n",
        "    return(tan(x))\n",
        "}\n",
        "\n",
        "N <- 1e7\n",
        "\n",
        "result1 <- rep(0, N)\n",
        "print(system.time({\n",
        "    for (i in 1:N) {\n",
        "        result1[i] <- f(i)\n",
        "    }\n",
        "}))\n",
        "\n",
        "result2 <- rep(0, N)\n",
        "print(system.time({\n",
        "    for (i in 1:N) {\n",
        "        result2[i] <- g4(g3(g2(g1(i))))\n",
        "    }\n",
        "}))\n",
        "\n",
        "print(all(result1 == result2))\n"
      ],
      "metadata": {
        "colab": {
          "base_uri": "https://localhost:8080/"
        },
        "id": "azszCH6S5F6A",
        "outputId": "e7d3d8e0-32fb-4361-df25-fa2d55822b3d"
      },
      "execution_count": 3,
      "outputs": [
        {
          "output_type": "stream",
          "name": "stdout",
          "text": [
            "   user  system elapsed \n",
            " 11.694   0.141  12.257 \n",
            "   user  system elapsed \n",
            " 21.609   0.048  21.812 \n",
            "[1] TRUE\n"
          ]
        }
      ]
    }
  ]
}